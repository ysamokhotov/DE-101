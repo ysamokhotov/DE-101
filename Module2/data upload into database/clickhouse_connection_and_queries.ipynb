{
 "cells": [
  {
   "cell_type": "code",
   "execution_count": 2,
   "id": "b4902ea3",
   "metadata": {},
   "outputs": [
    {
     "name": "stdout",
     "output_type": "stream",
     "text": [
      "Collecting clickhouse_connect\n",
      "  Downloading clickhouse_connect-0.5.15-cp39-cp39-win_amd64.whl (212 kB)\n",
      "Requirement already satisfied: urllib3>=1.26 in c:\\users\\maste\\anaconda3\\lib\\site-packages (from clickhouse_connect) (1.26.9)\n",
      "Collecting zstandard\n",
      "  Downloading zstandard-0.20.0-cp39-cp39-win_amd64.whl (644 kB)\n",
      "Requirement already satisfied: certifi in c:\\users\\maste\\anaconda3\\lib\\site-packages (from clickhouse_connect) (2022.12.7)\n",
      "Requirement already satisfied: pytz in c:\\users\\maste\\anaconda3\\lib\\site-packages (from clickhouse_connect) (2021.3)\n",
      "Collecting lz4\n",
      "  Downloading lz4-4.3.2-cp39-cp39-win_amd64.whl (99 kB)\n",
      "Installing collected packages: zstandard, lz4, clickhouse-connect\n",
      "Successfully installed clickhouse-connect-0.5.15 lz4-4.3.2 zstandard-0.20.0\n"
     ]
    },
    {
     "name": "stderr",
     "output_type": "stream",
     "text": [
      "WARNING: Ignoring invalid distribution -qlalchemy (c:\\users\\maste\\anaconda3\\lib\\site-packages)\n",
      "WARNING: Ignoring invalid distribution -qlalchemy (c:\\users\\maste\\anaconda3\\lib\\site-packages)\n",
      "WARNING: Ignoring invalid distribution -qlalchemy (c:\\users\\maste\\anaconda3\\lib\\site-packages)\n",
      "WARNING: Ignoring invalid distribution -qlalchemy (c:\\users\\maste\\anaconda3\\lib\\site-packages)\n",
      "WARNING: Ignoring invalid distribution -qlalchemy (c:\\users\\maste\\anaconda3\\lib\\site-packages)\n",
      "WARNING: Ignoring invalid distribution -qlalchemy (c:\\users\\maste\\anaconda3\\lib\\site-packages)\n",
      "WARNING: Ignoring invalid distribution -qlalchemy (c:\\users\\maste\\anaconda3\\lib\\site-packages)\n",
      "WARNING: Ignoring invalid distribution -qlalchemy (c:\\users\\maste\\anaconda3\\lib\\site-packages)\n",
      "WARNING: Ignoring invalid distribution -qlalchemy (c:\\users\\maste\\anaconda3\\lib\\site-packages)\n"
     ]
    }
   ],
   "source": [
    "! pip install clickhouse_connect"
   ]
  },
  {
   "cell_type": "code",
   "execution_count": 11,
   "id": "3b1d3b2c",
   "metadata": {},
   "outputs": [],
   "source": [
    "import pandas as pd"
   ]
  },
  {
   "cell_type": "code",
   "execution_count": 8,
   "id": "84d087d4",
   "metadata": {
    "scrolled": true
   },
   "outputs": [],
   "source": [
    "import clickhouse_connect\n",
    "\n",
    "client = clickhouse_connect.get_client(\n",
    "    host='k1p7lf9vml.eu-central-1.aws.clickhouse.cloud', port=8443, username='default', password='Gq7b7G6+bQ^8')"
   ]
  },
  {
   "cell_type": "code",
   "execution_count": 9,
   "id": "a2951c2c",
   "metadata": {},
   "outputs": [],
   "source": [
    "def sql(query):\n",
    "    return(pd.DataFrame(client.query(query).result_set))"
   ]
  },
  {
   "cell_type": "markdown",
   "id": "9d8b9d40",
   "metadata": {},
   "source": [
    "1. Суммарные продажи по годам"
   ]
  },
  {
   "cell_type": "code",
   "execution_count": 15,
   "id": "081d8fe4",
   "metadata": {},
   "outputs": [
    {
     "data": {
      "text/html": [
       "<div>\n",
       "<style scoped>\n",
       "    .dataframe tbody tr th:only-of-type {\n",
       "        vertical-align: middle;\n",
       "    }\n",
       "\n",
       "    .dataframe tbody tr th {\n",
       "        vertical-align: top;\n",
       "    }\n",
       "\n",
       "    .dataframe thead th {\n",
       "        text-align: right;\n",
       "    }\n",
       "</style>\n",
       "<table border=\"1\" class=\"dataframe\">\n",
       "  <thead>\n",
       "    <tr style=\"text-align: right;\">\n",
       "      <th></th>\n",
       "      <th>0</th>\n",
       "      <th>1</th>\n",
       "    </tr>\n",
       "  </thead>\n",
       "  <tbody>\n",
       "    <tr>\n",
       "      <th>0</th>\n",
       "      <td>2016</td>\n",
       "      <td>455027.9501</td>\n",
       "    </tr>\n",
       "    <tr>\n",
       "      <th>1</th>\n",
       "      <td>2017</td>\n",
       "      <td>430871.6150</td>\n",
       "    </tr>\n",
       "    <tr>\n",
       "      <th>2</th>\n",
       "      <td>2018</td>\n",
       "      <td>573083.8260</td>\n",
       "    </tr>\n",
       "    <tr>\n",
       "      <th>3</th>\n",
       "      <td>2019</td>\n",
       "      <td>657713.1913</td>\n",
       "    </tr>\n",
       "  </tbody>\n",
       "</table>\n",
       "</div>"
      ],
      "text/plain": [
       "      0            1\n",
       "0  2016  455027.9501\n",
       "1  2017  430871.6150\n",
       "2  2018  573083.8260\n",
       "3  2019  657713.1913"
      ]
     },
     "execution_count": 15,
     "metadata": {},
     "output_type": "execute_result"
    }
   ],
   "source": [
    "sql(\n",
    "'''\n",
    "select toYear(parseDateTimeBestEffortOrNull(order_date)) order_year, sum(sales) total_sales\n",
    "from sample_superstore\n",
    "where order_id not in(\n",
    "    select order_id\n",
    "    from returns)\n",
    "group by order_year\n",
    "order by order_year\n",
    "''')"
   ]
  },
  {
   "cell_type": "markdown",
   "id": "ab97236f",
   "metadata": {},
   "source": [
    "2. Наиболее популярный метод доставки"
   ]
  },
  {
   "cell_type": "code",
   "execution_count": 17,
   "id": "34036d87",
   "metadata": {},
   "outputs": [
    {
     "data": {
      "text/html": [
       "<div>\n",
       "<style scoped>\n",
       "    .dataframe tbody tr th:only-of-type {\n",
       "        vertical-align: middle;\n",
       "    }\n",
       "\n",
       "    .dataframe tbody tr th {\n",
       "        vertical-align: top;\n",
       "    }\n",
       "\n",
       "    .dataframe thead th {\n",
       "        text-align: right;\n",
       "    }\n",
       "</style>\n",
       "<table border=\"1\" class=\"dataframe\">\n",
       "  <thead>\n",
       "    <tr style=\"text-align: right;\">\n",
       "      <th></th>\n",
       "      <th>0</th>\n",
       "      <th>1</th>\n",
       "    </tr>\n",
       "  </thead>\n",
       "  <tbody>\n",
       "    <tr>\n",
       "      <th>0</th>\n",
       "      <td>Standard Class</td>\n",
       "      <td>2994</td>\n",
       "    </tr>\n",
       "    <tr>\n",
       "      <th>1</th>\n",
       "      <td>Second Class</td>\n",
       "      <td>964</td>\n",
       "    </tr>\n",
       "    <tr>\n",
       "      <th>2</th>\n",
       "      <td>First Class</td>\n",
       "      <td>787</td>\n",
       "    </tr>\n",
       "    <tr>\n",
       "      <th>3</th>\n",
       "      <td>Same Day</td>\n",
       "      <td>264</td>\n",
       "    </tr>\n",
       "  </tbody>\n",
       "</table>\n",
       "</div>"
      ],
      "text/plain": [
       "                0     1\n",
       "0  Standard Class  2994\n",
       "1    Second Class   964\n",
       "2     First Class   787\n",
       "3        Same Day   264"
      ]
     },
     "execution_count": 17,
     "metadata": {},
     "output_type": "execute_result"
    }
   ],
   "source": [
    "sql(\n",
    "'''\n",
    "select ship_mode, count(distinct order_id) orders_cnt\n",
    "from sample_superstore\n",
    "group by ship_mode\n",
    "order by orders_cnt desc\n",
    "''')"
   ]
  },
  {
   "cell_type": "markdown",
   "id": "df950b2b",
   "metadata": {},
   "source": [
    "3. Какой артикул продается больше всего"
   ]
  },
  {
   "cell_type": "code",
   "execution_count": 19,
   "id": "fa912f20",
   "metadata": {},
   "outputs": [
    {
     "data": {
      "text/html": [
       "<div>\n",
       "<style scoped>\n",
       "    .dataframe tbody tr th:only-of-type {\n",
       "        vertical-align: middle;\n",
       "    }\n",
       "\n",
       "    .dataframe tbody tr th {\n",
       "        vertical-align: top;\n",
       "    }\n",
       "\n",
       "    .dataframe thead th {\n",
       "        text-align: right;\n",
       "    }\n",
       "</style>\n",
       "<table border=\"1\" class=\"dataframe\">\n",
       "  <thead>\n",
       "    <tr style=\"text-align: right;\">\n",
       "      <th></th>\n",
       "      <th>0</th>\n",
       "      <th>1</th>\n",
       "      <th>2</th>\n",
       "    </tr>\n",
       "  </thead>\n",
       "  <tbody>\n",
       "    <tr>\n",
       "      <th>0</th>\n",
       "      <td>FUR-TA-10001095</td>\n",
       "      <td>Chromcraft Round Conference Tables</td>\n",
       "      <td>61</td>\n",
       "    </tr>\n",
       "    <tr>\n",
       "      <th>1</th>\n",
       "      <td>OFF-BI-10001524</td>\n",
       "      <td>GBC Premium Transparent Covers with Diagonal L...</td>\n",
       "      <td>58</td>\n",
       "    </tr>\n",
       "    <tr>\n",
       "      <th>2</th>\n",
       "      <td>FUR-CH-10002647</td>\n",
       "      <td>Situations Contoured Folding Chairs, 4/Set</td>\n",
       "      <td>57</td>\n",
       "    </tr>\n",
       "    <tr>\n",
       "      <th>3</th>\n",
       "      <td>OFF-BI-10004728</td>\n",
       "      <td>Wilson Jones Turn Tabs Binder Tool for Ring Bi...</td>\n",
       "      <td>55</td>\n",
       "    </tr>\n",
       "    <tr>\n",
       "      <th>4</th>\n",
       "      <td>OFF-ST-10001809</td>\n",
       "      <td>Fellowes Officeware Wire Shelving</td>\n",
       "      <td>55</td>\n",
       "    </tr>\n",
       "  </tbody>\n",
       "</table>\n",
       "</div>"
      ],
      "text/plain": [
       "                 0                                                  1   2\n",
       "0  FUR-TA-10001095                 Chromcraft Round Conference Tables  61\n",
       "1  OFF-BI-10001524  GBC Premium Transparent Covers with Diagonal L...  58\n",
       "2  FUR-CH-10002647         Situations Contoured Folding Chairs, 4/Set  57\n",
       "3  OFF-BI-10004728  Wilson Jones Turn Tabs Binder Tool for Ring Bi...  55\n",
       "4  OFF-ST-10001809                  Fellowes Officeware Wire Shelving  55"
      ]
     },
     "execution_count": 19,
     "metadata": {},
     "output_type": "execute_result"
    }
   ],
   "source": [
    "sql(\n",
    "'''\n",
    "select product_id, product_name, sum(quantity) total_sell\n",
    "from sample_superstore\n",
    "where order_id not in(\n",
    "    select order_id\n",
    "    from returns)\n",
    "group by product_id, product_name\n",
    "order by total_sell desc\n",
    "''').head()"
   ]
  }
 ],
 "metadata": {
  "kernelspec": {
   "display_name": "Python 3 (ipykernel)",
   "language": "python",
   "name": "python3"
  },
  "language_info": {
   "codemirror_mode": {
    "name": "ipython",
    "version": 3
   },
   "file_extension": ".py",
   "mimetype": "text/x-python",
   "name": "python",
   "nbconvert_exporter": "python",
   "pygments_lexer": "ipython3",
   "version": "3.9.12"
  }
 },
 "nbformat": 4,
 "nbformat_minor": 5
}
